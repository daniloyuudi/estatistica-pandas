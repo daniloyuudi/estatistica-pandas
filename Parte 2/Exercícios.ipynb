{
 "cells": [
  {
   "cell_type": "code",
   "execution_count": 37,
   "metadata": {
    "executionInfo": {
     "elapsed": 1538,
     "status": "ok",
     "timestamp": 1604535222149,
     "user": {
      "displayName": "Danilo Silva",
      "photoUrl": "",
      "userId": "04268383437038998907"
     },
     "user_tz": 180
    },
    "id": "O0ZC8jLmTKZY"
   },
   "outputs": [],
   "source": [
    "from scipy.special import comb\n",
    "from scipy.stats import binom\n",
    "from scipy.stats import poisson\n",
    "from scipy.stats import norm\n",
    "import numpy as np"
   ]
  },
  {
   "cell_type": "markdown",
   "metadata": {
    "id": "jAtBhUH-TU3I"
   },
   "source": [
    "# Lista de Exercícios"
   ]
  },
  {
   "cell_type": "markdown",
   "metadata": {
    "id": "VEhg_cFETO19"
   },
   "source": [
    "## Show de Prêmios da Alura"
   ]
  },
  {
   "cell_type": "code",
   "execution_count": 38,
   "metadata": {
    "colab": {
     "base_uri": "https://localhost:8080/"
    },
    "executionInfo": {
     "elapsed": 595,
     "status": "ok",
     "timestamp": 1604376782411,
     "user": {
      "displayName": "Danilo Silva",
      "photoUrl": "",
      "userId": "04268383437038998907"
     },
     "user_tz": 180
    },
    "id": "4z6s8vOoTev1",
    "outputId": "8ba0d963-650f-4ada-d109-ed6f69bb0b31"
   },
   "outputs": [
    {
     "data": {
      "text/plain": [
       "53130.0"
      ]
     },
     "execution_count": 38,
     "metadata": {},
     "output_type": "execute_result"
    }
   ],
   "source": [
    "combinacoes = comb(25, 20)\n",
    "combinacoes"
   ]
  },
  {
   "cell_type": "code",
   "execution_count": 39,
   "metadata": {
    "colab": {
     "base_uri": "https://localhost:8080/"
    },
    "executionInfo": {
     "elapsed": 707,
     "status": "ok",
     "timestamp": 1604376807459,
     "user": {
      "displayName": "Danilo Silva",
      "photoUrl": "",
      "userId": "04268383437038998907"
     },
     "user_tz": 180
    },
    "id": "b2dm35qATuOY",
    "outputId": "20c7bb56-cc7c-45ff-cf09-b01b114fe90d"
   },
   "outputs": [
    {
     "name": "stdout",
     "output_type": "stream",
     "text": [
      "0.000018821757952\n"
     ]
    }
   ],
   "source": [
    "probabilidade = 1 / combinacoes\n",
    "print(\"%0.15f\" % probabilidade)"
   ]
  },
  {
   "cell_type": "markdown",
   "metadata": {
    "id": "dnH-FXe5ZVtF"
   },
   "source": [
    "## Lançando moedas"
   ]
  },
  {
   "cell_type": "code",
   "execution_count": 40,
   "metadata": {
    "id": "DuPdgHQGZWmx"
   },
   "outputs": [],
   "source": [
    "p = 1 / 2\n",
    "n = 4\n",
    "k = 2"
   ]
  },
  {
   "cell_type": "code",
   "execution_count": 41,
   "metadata": {
    "colab": {
     "base_uri": "https://localhost:8080/"
    },
    "executionInfo": {
     "elapsed": 586,
     "status": "ok",
     "timestamp": 1604378467339,
     "user": {
      "displayName": "Danilo Silva",
      "photoUrl": "",
      "userId": "04268383437038998907"
     },
     "user_tz": 180
    },
    "id": "SFKhLK6XaByT",
    "outputId": "97c00a4e-27ae-46b2-c7d5-6d092b447ff2"
   },
   "outputs": [
    {
     "data": {
      "text/plain": [
       "0.3750000000000001"
      ]
     },
     "execution_count": 41,
     "metadata": {},
     "output_type": "execute_result"
    }
   ],
   "source": [
    "binom.pmf(k, n, p)"
   ]
  },
  {
   "cell_type": "markdown",
   "metadata": {
    "id": "0tYnfnQuaWD1"
   },
   "source": [
    "## Lançando Dados"
   ]
  },
  {
   "cell_type": "code",
   "execution_count": 42,
   "metadata": {
    "id": "tpFZH0PqaXe_"
   },
   "outputs": [],
   "source": [
    "p = 1 / 6\n",
    "n = 10"
   ]
  },
  {
   "cell_type": "code",
   "execution_count": 43,
   "metadata": {
    "colab": {
     "base_uri": "https://localhost:8080/"
    },
    "executionInfo": {
     "elapsed": 739,
     "status": "ok",
     "timestamp": 1604378683595,
     "user": {
      "displayName": "Danilo Silva",
      "photoUrl": "",
      "userId": "04268383437038998907"
     },
     "user_tz": 180
    },
    "id": "yArT_znhaqRw",
    "outputId": "810c5cee-c035-4777-a96f-206ffe861cca"
   },
   "outputs": [
    {
     "data": {
      "text/plain": [
       "0.2247732021287407"
      ]
     },
     "execution_count": 43,
     "metadata": {},
     "output_type": "execute_result"
    }
   ],
   "source": [
    "binom.pmf([3, 4, 5, 6, 7, 8, 9, 10], n, p).sum()"
   ]
  },
  {
   "cell_type": "code",
   "execution_count": 44,
   "metadata": {
    "colab": {
     "base_uri": "https://localhost:8080/"
    },
    "executionInfo": {
     "elapsed": 607,
     "status": "ok",
     "timestamp": 1604378691398,
     "user": {
      "displayName": "Danilo Silva",
      "photoUrl": "",
      "userId": "04268383437038998907"
     },
     "user_tz": 180
    },
    "id": "zFf8gBuVa-WY",
    "outputId": "e5aa7dd4-9cb3-4a22-eef7-6e10a5202fc4"
   },
   "outputs": [
    {
     "data": {
      "text/plain": [
       "0.22477320212874052"
      ]
     },
     "execution_count": 44,
     "metadata": {},
     "output_type": "execute_result"
    }
   ],
   "source": [
    "binom.sf(2, n, p)"
   ]
  },
  {
   "cell_type": "markdown",
   "metadata": {
    "id": "z0CeV4kkdkeE"
   },
   "source": [
    "## Chance de ter olhos azuis"
   ]
  },
  {
   "cell_type": "code",
   "execution_count": 45,
   "metadata": {
    "id": "1s77W5cIdidd"
   },
   "outputs": [],
   "source": [
    "p = 0.22\n",
    "n = 3\n",
    "k = 2\n",
    "N = 50"
   ]
  },
  {
   "cell_type": "code",
   "execution_count": 46,
   "metadata": {
    "colab": {
     "base_uri": "https://localhost:8080/"
    },
    "executionInfo": {
     "elapsed": 688,
     "status": "ok",
     "timestamp": 1604379615872,
     "user": {
      "displayName": "Danilo Silva",
      "photoUrl": "",
      "userId": "04268383437038998907"
     },
     "user_tz": 180
    },
    "id": "3gZkYs6ueInt",
    "outputId": "7ae1bcf7-71a6-4fcb-bf7d-ea66516eea9e"
   },
   "outputs": [
    {
     "data": {
      "text/plain": [
       "0.11325599999999998"
      ]
     },
     "execution_count": 46,
     "metadata": {},
     "output_type": "execute_result"
    }
   ],
   "source": [
    "probabilidade = binom.pmf(k, n, p)\n",
    "probabilidade"
   ]
  },
  {
   "cell_type": "code",
   "execution_count": 47,
   "metadata": {
    "colab": {
     "base_uri": "https://localhost:8080/"
    },
    "executionInfo": {
     "elapsed": 523,
     "status": "ok",
     "timestamp": 1604379617086,
     "user": {
      "displayName": "Danilo Silva",
      "photoUrl": "",
      "userId": "04268383437038998907"
     },
     "user_tz": 180
    },
    "id": "0GJy8YYWeXM4",
    "outputId": "06e7632f-d71a-49a4-8530-010c18ad185c"
   },
   "outputs": [
    {
     "data": {
      "text/plain": [
       "5.662799999999999"
      ]
     },
     "execution_count": 47,
     "metadata": {},
     "output_type": "execute_result"
    }
   ],
   "source": [
    "media = N * probabilidade\n",
    "media"
   ]
  },
  {
   "cell_type": "markdown",
   "metadata": {
    "id": "hwql8k9DIgo8"
   },
   "source": [
    "## Estimativa de clientes em determinada hora"
   ]
  },
  {
   "cell_type": "code",
   "execution_count": 48,
   "metadata": {
    "colab": {
     "base_uri": "https://localhost:8080/"
    },
    "executionInfo": {
     "elapsed": 992,
     "status": "ok",
     "timestamp": 1604457989234,
     "user": {
      "displayName": "Danilo Silva",
      "photoUrl": "",
      "userId": "04268383437038998907"
     },
     "user_tz": 180
    },
    "id": "8FDvJzvMIlWi",
    "outputId": "7a3641ab-7209-4075-988e-28a54c3e113c"
   },
   "outputs": [
    {
     "name": "stdout",
     "output_type": "stream",
     "text": [
      "4.46%\n"
     ]
    }
   ],
   "source": [
    "media = 20\n",
    "k = 25\n",
    "probabilidade = poisson.pmf(k, media)\n",
    "print(\"{0:.2%}\".format(probabilidade))"
   ]
  },
  {
   "cell_type": "markdown",
   "metadata": {
    "id": "POWnaNMivn5h"
   },
   "source": [
    "## Prova de estatística"
   ]
  },
  {
   "cell_type": "code",
   "execution_count": 49,
   "metadata": {
    "colab": {
     "base_uri": "https://localhost:8080/"
    },
    "executionInfo": {
     "elapsed": 910,
     "status": "ok",
     "timestamp": 1604535208352,
     "user": {
      "displayName": "Danilo Silva",
      "photoUrl": "",
      "userId": "04268383437038998907"
     },
     "user_tz": 180
    },
    "id": "LLjD2nASvrPW",
    "outputId": "3d3c9726-45e0-49d6-eedf-0971da609f95"
   },
   "outputs": [
    {
     "data": {
      "text/plain": [
       "3.0"
      ]
     },
     "execution_count": 49,
     "metadata": {},
     "output_type": "execute_result"
    }
   ],
   "source": [
    "media = 70\n",
    "desvio_padrao = 5\n",
    "Z = (85 - media) / desvio_padrao\n",
    "Z"
   ]
  },
  {
   "cell_type": "code",
   "execution_count": 50,
   "metadata": {
    "colab": {
     "base_uri": "https://localhost:8080/"
    },
    "executionInfo": {
     "elapsed": 923,
     "status": "ok",
     "timestamp": 1604535238753,
     "user": {
      "displayName": "Danilo Silva",
      "photoUrl": "",
      "userId": "04268383437038998907"
     },
     "user_tz": 180
    },
    "id": "_XsJPSfuwEV7",
    "outputId": "f868ada4-f8d7-4544-e548-6f57eee87c9f"
   },
   "outputs": [
    {
     "data": {
      "text/plain": [
       "0.9986501019683699"
      ]
     },
     "execution_count": 50,
     "metadata": {},
     "output_type": "execute_result"
    }
   ],
   "source": [
    "norm.cdf(Z)"
   ]
  },
  {
   "cell_type": "markdown",
   "metadata": {
    "id": "gJvOaUCT0pk_"
   },
   "source": [
    "## Faturamento diário"
   ]
  },
  {
   "cell_type": "code",
   "execution_count": 51,
   "metadata": {
    "executionInfo": {
     "elapsed": 936,
     "status": "ok",
     "timestamp": 1604536488515,
     "user": {
      "displayName": "Danilo Silva",
      "photoUrl": "",
      "userId": "04268383437038998907"
     },
     "user_tz": 180
    },
    "id": "OGYRg4Xa03iI"
   },
   "outputs": [],
   "source": [
    "media = 300\n",
    "desvio_padrao = 50"
   ]
  },
  {
   "cell_type": "markdown",
   "metadata": {
    "id": "CVc9lnA20w23"
   },
   "source": [
    "### A)"
   ]
  },
  {
   "cell_type": "code",
   "execution_count": 52,
   "metadata": {
    "colab": {
     "base_uri": "https://localhost:8080/"
    },
    "executionInfo": {
     "elapsed": 1015,
     "status": "ok",
     "timestamp": 1604536525986,
     "user": {
      "displayName": "Danilo Silva",
      "photoUrl": "",
      "userId": "04268383437038998907"
     },
     "user_tz": 180
    },
    "id": "or80U4FL0r9j",
    "outputId": "6dc6dc9b-0000-478c-c468-854b9a4f60f5"
   },
   "outputs": [
    {
     "data": {
      "text/plain": [
       "-1.0"
      ]
     },
     "execution_count": 52,
     "metadata": {},
     "output_type": "execute_result"
    }
   ],
   "source": [
    "Z_inferior = (250 - media) / desvio_padrao\n",
    "Z_inferior"
   ]
  },
  {
   "cell_type": "code",
   "execution_count": 53,
   "metadata": {
    "colab": {
     "base_uri": "https://localhost:8080/"
    },
    "executionInfo": {
     "elapsed": 944,
     "status": "ok",
     "timestamp": 1604536553511,
     "user": {
      "displayName": "Danilo Silva",
      "photoUrl": "",
      "userId": "04268383437038998907"
     },
     "user_tz": 180
    },
    "id": "dVW_9y361GBE",
    "outputId": "044c8dc4-47ec-40fa-87f9-0f5048920d5a"
   },
   "outputs": [
    {
     "data": {
      "text/plain": [
       "1.0"
      ]
     },
     "execution_count": 53,
     "metadata": {},
     "output_type": "execute_result"
    }
   ],
   "source": [
    "Z_superior = (350 - media) / desvio_padrao\n",
    "Z_superior"
   ]
  },
  {
   "cell_type": "code",
   "execution_count": 54,
   "metadata": {
    "colab": {
     "base_uri": "https://localhost:8080/"
    },
    "executionInfo": {
     "elapsed": 1259,
     "status": "ok",
     "timestamp": 1604536582510,
     "user": {
      "displayName": "Danilo Silva",
      "photoUrl": "",
      "userId": "04268383437038998907"
     },
     "user_tz": 180
    },
    "id": "qV77LDSC1MwO",
    "outputId": "4599f7c1-26cc-4c71-94c6-cf025bab524a"
   },
   "outputs": [
    {
     "data": {
      "text/plain": [
       "0.6826894921370859"
      ]
     },
     "execution_count": 54,
     "metadata": {},
     "output_type": "execute_result"
    }
   ],
   "source": [
    "norm.cdf(Z_superior) - norm.cdf(Z_inferior)"
   ]
  },
  {
   "cell_type": "markdown",
   "metadata": {
    "id": "GjJgm4iI1XLm"
   },
   "source": [
    "### B)"
   ]
  },
  {
   "cell_type": "code",
   "execution_count": 55,
   "metadata": {
    "colab": {
     "base_uri": "https://localhost:8080/"
    },
    "executionInfo": {
     "elapsed": 1086,
     "status": "ok",
     "timestamp": 1604536628629,
     "user": {
      "displayName": "Danilo Silva",
      "photoUrl": "",
      "userId": "04268383437038998907"
     },
     "user_tz": 180
    },
    "id": "Fh2bxSl21YMu",
    "outputId": "2542f39d-d8aa-4df1-d56d-14e156af0867"
   },
   "outputs": [
    {
     "data": {
      "text/plain": [
       "2.0"
      ]
     },
     "execution_count": 55,
     "metadata": {},
     "output_type": "execute_result"
    }
   ],
   "source": [
    "Z_inferior = (400 - media) / desvio_padrao\n",
    "Z_inferior"
   ]
  },
  {
   "cell_type": "code",
   "execution_count": 56,
   "metadata": {
    "colab": {
     "base_uri": "https://localhost:8080/"
    },
    "executionInfo": {
     "elapsed": 788,
     "status": "ok",
     "timestamp": 1604536652832,
     "user": {
      "displayName": "Danilo Silva",
      "photoUrl": "",
      "userId": "04268383437038998907"
     },
     "user_tz": 180
    },
    "id": "NcwoSBVt1fD3",
    "outputId": "45a643df-7073-4bb7-b107-55498ccf6e15"
   },
   "outputs": [
    {
     "data": {
      "text/plain": [
       "4.0"
      ]
     },
     "execution_count": 56,
     "metadata": {},
     "output_type": "execute_result"
    }
   ],
   "source": [
    "Z_superior = (500 - media) / desvio_padrao\n",
    "Z_superior"
   ]
  },
  {
   "cell_type": "code",
   "execution_count": 57,
   "metadata": {
    "colab": {
     "base_uri": "https://localhost:8080/"
    },
    "executionInfo": {
     "elapsed": 950,
     "status": "ok",
     "timestamp": 1604536683572,
     "user": {
      "displayName": "Danilo Silva",
      "photoUrl": "",
      "userId": "04268383437038998907"
     },
     "user_tz": 180
    },
    "id": "AEXEuHdj1lCg",
    "outputId": "5bb3eda7-4fe0-48b7-815c-bbf6a83774eb"
   },
   "outputs": [
    {
     "data": {
      "text/plain": [
       "0.02271846070634609"
      ]
     },
     "execution_count": 57,
     "metadata": {},
     "output_type": "execute_result"
    }
   ],
   "source": [
    "norm.cdf(Z_superior) - norm.cdf(Z_inferior)"
   ]
  },
  {
   "cell_type": "markdown",
   "metadata": {
    "id": "GiYO5AJB5WeB"
   },
   "source": [
    "## Vida útil"
   ]
  },
  {
   "cell_type": "code",
   "execution_count": 58,
   "metadata": {
    "executionInfo": {
     "elapsed": 826,
     "status": "ok",
     "timestamp": 1604537670968,
     "user": {
      "displayName": "Danilo Silva",
      "photoUrl": "",
      "userId": "04268383437038998907"
     },
     "user_tz": 180
    },
    "id": "_N-i3D5Y5X-O"
   },
   "outputs": [],
   "source": [
    "media = 720\n",
    "desvio_padrao = 30"
   ]
  },
  {
   "cell_type": "markdown",
   "metadata": {
    "id": "ofcsPc7n5fiE"
   },
   "source": [
    "### 1)"
   ]
  },
  {
   "cell_type": "code",
   "execution_count": 59,
   "metadata": {
    "colab": {
     "base_uri": "https://localhost:8080/"
    },
    "executionInfo": {
     "elapsed": 900,
     "status": "ok",
     "timestamp": 1604537720188,
     "user": {
      "displayName": "Danilo Silva",
      "photoUrl": "",
      "userId": "04268383437038998907"
     },
     "user_tz": 180
    },
    "id": "EfdxQU8b5dmD",
    "outputId": "06b322d2-1107-4204-f638-127cb8d32cd6"
   },
   "outputs": [
    {
     "data": {
      "text/plain": [
       "-2.3333333333333335"
      ]
     },
     "execution_count": 59,
     "metadata": {},
     "output_type": "execute_result"
    }
   ],
   "source": [
    "Z_inferior = (650 - media) / desvio_padrao\n",
    "Z_inferior"
   ]
  },
  {
   "cell_type": "code",
   "execution_count": 60,
   "metadata": {
    "colab": {
     "base_uri": "https://localhost:8080/"
    },
    "executionInfo": {
     "elapsed": 1336,
     "status": "ok",
     "timestamp": 1604537739374,
     "user": {
      "displayName": "Danilo Silva",
      "photoUrl": "",
      "userId": "04268383437038998907"
     },
     "user_tz": 180
    },
    "id": "Avy_QIz25pmX",
    "outputId": "d3e0bd02-60c6-4842-a7e0-783045b190e2"
   },
   "outputs": [
    {
     "data": {
      "text/plain": [
       "1.0"
      ]
     },
     "execution_count": 60,
     "metadata": {},
     "output_type": "execute_result"
    }
   ],
   "source": [
    "Z_superior = (750 - media) / desvio_padrao\n",
    "Z_superior"
   ]
  },
  {
   "cell_type": "code",
   "execution_count": 61,
   "metadata": {
    "colab": {
     "base_uri": "https://localhost:8080/"
    },
    "executionInfo": {
     "elapsed": 2191,
     "status": "ok",
     "timestamp": 1604537772930,
     "user": {
      "displayName": "Danilo Silva",
      "photoUrl": "",
      "userId": "04268383437038998907"
     },
     "user_tz": 180
    },
    "id": "oDjSXggF5uLq",
    "outputId": "79754f5a-3849-42af-d666-0ddce864b11d"
   },
   "outputs": [
    {
     "data": {
      "text/plain": [
       "0.8315294174398976"
      ]
     },
     "execution_count": 61,
     "metadata": {},
     "output_type": "execute_result"
    }
   ],
   "source": [
    "norm.cdf(Z_superior) - norm.cdf(Z_inferior)"
   ]
  },
  {
   "cell_type": "markdown",
   "metadata": {
    "id": "-TY5Dr9o55HA"
   },
   "source": [
    "### 2)"
   ]
  },
  {
   "cell_type": "code",
   "execution_count": 62,
   "metadata": {
    "colab": {
     "base_uri": "https://localhost:8080/"
    },
    "executionInfo": {
     "elapsed": 890,
     "status": "ok",
     "timestamp": 1604537815443,
     "user": {
      "displayName": "Danilo Silva",
      "photoUrl": "",
      "userId": "04268383437038998907"
     },
     "user_tz": 180
    },
    "id": "xAs-rGWK56Ps",
    "outputId": "98431b04-fa3f-4d41-f7c4-53f11eb0e2de"
   },
   "outputs": [
    {
     "data": {
      "text/plain": [
       "2.6666666666666665"
      ]
     },
     "execution_count": 62,
     "metadata": {},
     "output_type": "execute_result"
    }
   ],
   "source": [
    "Z = (800 - media) / desvio_padrao\n",
    "Z"
   ]
  },
  {
   "cell_type": "code",
   "execution_count": 63,
   "metadata": {
    "colab": {
     "base_uri": "https://localhost:8080/"
    },
    "executionInfo": {
     "elapsed": 892,
     "status": "ok",
     "timestamp": 1604537841993,
     "user": {
      "displayName": "Danilo Silva",
      "photoUrl": "",
      "userId": "04268383437038998907"
     },
     "user_tz": 180
    },
    "id": "eyiHYop66A29",
    "outputId": "e444fb37-15c5-42f5-afe7-00d485e7dd11"
   },
   "outputs": [
    {
     "data": {
      "text/plain": [
       "0.0038303805675897365"
      ]
     },
     "execution_count": 63,
     "metadata": {},
     "output_type": "execute_result"
    }
   ],
   "source": [
    "norm.cdf(-Z)"
   ]
  },
  {
   "cell_type": "markdown",
   "metadata": {
    "id": "ZE_gCitE6K7U"
   },
   "source": [
    "### 3)"
   ]
  },
  {
   "cell_type": "code",
   "execution_count": 64,
   "metadata": {
    "colab": {
     "base_uri": "https://localhost:8080/"
    },
    "executionInfo": {
     "elapsed": 611,
     "status": "ok",
     "timestamp": 1604537878135,
     "user": {
      "displayName": "Danilo Silva",
      "photoUrl": "",
      "userId": "04268383437038998907"
     },
     "user_tz": 180
    },
    "id": "XrZj9mOa6HVW",
    "outputId": "39812541-8e66-450a-c04a-eb3b471b8fce"
   },
   "outputs": [
    {
     "data": {
      "text/plain": [
       "-0.6666666666666666"
      ]
     },
     "execution_count": 64,
     "metadata": {},
     "output_type": "execute_result"
    }
   ],
   "source": [
    "Z = (700 - media) / desvio_padrao\n",
    "Z"
   ]
  },
  {
   "cell_type": "code",
   "execution_count": 65,
   "metadata": {
    "colab": {
     "base_uri": "https://localhost:8080/"
    },
    "executionInfo": {
     "elapsed": 933,
     "status": "ok",
     "timestamp": 1604537885395,
     "user": {
      "displayName": "Danilo Silva",
      "photoUrl": "",
      "userId": "04268383437038998907"
     },
     "user_tz": 180
    },
    "id": "VVsFytk36QOv",
    "outputId": "b01f99b9-8a8e-4d16-8eb1-e0cede9d2c83"
   },
   "outputs": [
    {
     "data": {
      "text/plain": [
       "0.2524925375469229"
      ]
     },
     "execution_count": 65,
     "metadata": {},
     "output_type": "execute_result"
    }
   ],
   "source": [
    "norm.cdf(Z)"
   ]
  },
  {
   "cell_type": "markdown",
   "metadata": {
    "id": "KT2yYty16jwi"
   },
   "source": [
    "## Obtendo probabilidades"
   ]
  },
  {
   "cell_type": "markdown",
   "metadata": {
    "id": "_xAhaSDN6mW-"
   },
   "source": [
    "### 1)"
   ]
  },
  {
   "cell_type": "code",
   "execution_count": 66,
   "metadata": {
    "colab": {
     "base_uri": "https://localhost:8080/"
    },
    "executionInfo": {
     "elapsed": 844,
     "status": "ok",
     "timestamp": 1604538012785,
     "user": {
      "displayName": "Danilo Silva",
      "photoUrl": "",
      "userId": "04268383437038998907"
     },
     "user_tz": 180
    },
    "id": "s_ozqMcr6lV0",
    "outputId": "befd3b5b-f022-415f-e9f5-0e782aea6963"
   },
   "outputs": [
    {
     "data": {
      "text/plain": [
       "0.9750021048517795"
      ]
     },
     "execution_count": 66,
     "metadata": {},
     "output_type": "execute_result"
    }
   ],
   "source": [
    "norm.cdf(1.96)"
   ]
  },
  {
   "cell_type": "markdown",
   "metadata": {
    "id": "-pFc-OBi6y7G"
   },
   "source": [
    "### 2)"
   ]
  },
  {
   "cell_type": "code",
   "execution_count": 67,
   "metadata": {
    "colab": {
     "base_uri": "https://localhost:8080/"
    },
    "executionInfo": {
     "elapsed": 959,
     "status": "ok",
     "timestamp": 1604538041277,
     "user": {
      "displayName": "Danilo Silva",
      "photoUrl": "",
      "userId": "04268383437038998907"
     },
     "user_tz": 180
    },
    "id": "TMgibjG66xC8",
    "outputId": "b5671f48-cbcb-4385-bba9-d54f59491574"
   },
   "outputs": [
    {
     "data": {
      "text/plain": [
       "0.0157776073910905"
      ]
     },
     "execution_count": 67,
     "metadata": {},
     "output_type": "execute_result"
    }
   ],
   "source": [
    "norm.cdf(-2.15)"
   ]
  },
  {
   "cell_type": "markdown",
   "metadata": {
    "id": "cQsYbcmh65Ks"
   },
   "source": [
    "### 3)"
   ]
  },
  {
   "cell_type": "code",
   "execution_count": 68,
   "metadata": {
    "colab": {
     "base_uri": "https://localhost:8080/"
    },
    "executionInfo": {
     "elapsed": 1101,
     "status": "ok",
     "timestamp": 1604538202822,
     "user": {
      "displayName": "Danilo Silva",
      "photoUrl": "",
      "userId": "04268383437038998907"
     },
     "user_tz": 180
    },
    "id": "2AqrTb8z66MM",
    "outputId": "833a3d5e-7b1c-4caa-bf43-2f8e7f60ac6f"
   },
   "outputs": [
    {
     "data": {
      "text/plain": [
       "0.2118553985833967"
      ]
     },
     "execution_count": 68,
     "metadata": {},
     "output_type": "execute_result"
    }
   ],
   "source": [
    "norm.cdf(-0.80)"
   ]
  },
  {
   "cell_type": "markdown",
   "metadata": {
    "id": "AsEn6Fw97Gzo"
   },
   "source": [
    "### 4)"
   ]
  },
  {
   "cell_type": "code",
   "execution_count": 69,
   "metadata": {
    "colab": {
     "base_uri": "https://localhost:8080/"
    },
    "executionInfo": {
     "elapsed": 931,
     "status": "ok",
     "timestamp": 1604538131869,
     "user": {
      "displayName": "Danilo Silva",
      "photoUrl": "",
      "userId": "04268383437038998907"
     },
     "user_tz": 180
    },
    "id": "gz726CjP7IWN",
    "outputId": "702f63fa-dfa3-4d18-cd8d-5cafefc47df8"
   },
   "outputs": [
    {
     "data": {
      "text/plain": [
       "0.27759532475346493"
      ]
     },
     "execution_count": 69,
     "metadata": {},
     "output_type": "execute_result"
    }
   ],
   "source": [
    "norm.cdf(-0.59)"
   ]
  },
  {
   "cell_type": "markdown",
   "metadata": {},
   "source": [
    "## Margem de erro"
   ]
  },
  {
   "cell_type": "code",
   "execution_count": 70,
   "metadata": {},
   "outputs": [
    {
     "name": "stdout",
     "output_type": "stream",
     "text": [
      "R$ 1.66\n"
     ]
    }
   ],
   "source": [
    "z = norm.ppf(0.975)\n",
    "desvio_padrao = 6\n",
    "n = 50\n",
    "\n",
    "e = z * (desvio_padrao / np.sqrt(n))\n",
    "print(\"R$ {0:0.2f}\".format(e))"
   ]
  },
  {
   "cell_type": "markdown",
   "metadata": {},
   "source": [
    "## Intervalo de confiança"
   ]
  },
  {
   "cell_type": "code",
   "execution_count": 100,
   "metadata": {},
   "outputs": [],
   "source": [
    "desvio_padrao = 11\n",
    "n = 1976\n",
    "media_amostral = 28"
   ]
  },
  {
   "cell_type": "code",
   "execution_count": 77,
   "metadata": {},
   "outputs": [
    {
     "data": {
      "text/plain": [
       "0.95"
      ]
     },
     "execution_count": 77,
     "metadata": {},
     "output_type": "execute_result"
    }
   ],
   "source": [
    "0.5 + (0.90 / 2)"
   ]
  },
  {
   "cell_type": "code",
   "execution_count": 79,
   "metadata": {},
   "outputs": [
    {
     "data": {
      "text/plain": [
       "1.6448536269514722"
      ]
     },
     "execution_count": 79,
     "metadata": {},
     "output_type": "execute_result"
    }
   ],
   "source": [
    "z = norm.ppf(0.95)\n",
    "z"
   ]
  },
  {
   "cell_type": "code",
   "execution_count": 92,
   "metadata": {},
   "outputs": [
    {
     "data": {
      "text/plain": [
       "0.24745669886621613"
      ]
     },
     "execution_count": 92,
     "metadata": {},
     "output_type": "execute_result"
    }
   ],
   "source": [
    "sigma = desvio_padrao / np.sqrt(n)\n",
    "sigma"
   ]
  },
  {
   "cell_type": "code",
   "execution_count": 95,
   "metadata": {},
   "outputs": [
    {
     "data": {
      "text/plain": [
       "0.40703004864353387"
      ]
     },
     "execution_count": 95,
     "metadata": {},
     "output_type": "execute_result"
    }
   ],
   "source": [
    "e = z * sigma\n",
    "e"
   ]
  },
  {
   "cell_type": "code",
   "execution_count": 96,
   "metadata": {},
   "outputs": [
    {
     "data": {
      "text/plain": [
       "(27.592969951356466, 28.407030048643534)"
      ]
     },
     "execution_count": 96,
     "metadata": {},
     "output_type": "execute_result"
    }
   ],
   "source": [
    "intervalo = (\n",
    "    media_amostral - e,\n",
    "    media_amostral + e\n",
    ")\n",
    "intervalo"
   ]
  },
  {
   "cell_type": "code",
   "execution_count": 99,
   "metadata": {},
   "outputs": [
    {
     "data": {
      "text/plain": [
       "(27.592969951356466, 28.407030048643534)"
      ]
     },
     "execution_count": 99,
     "metadata": {},
     "output_type": "execute_result"
    }
   ],
   "source": [
    "intervalo = norm.interval(alpha = 0.90, loc = media_amostral, scale = sigma)\n",
    "intervalo"
   ]
  }
 ],
 "metadata": {
  "colab": {
   "authorship_tag": "ABX9TyNknn+Ht9qRzvyAZf86i1Vs",
   "collapsed_sections": [],
   "name": "Exercícios.ipynb",
   "provenance": []
  },
  "kernelspec": {
   "display_name": "Python 3",
   "language": "python",
   "name": "python3"
  },
  "language_info": {
   "codemirror_mode": {
    "name": "ipython",
    "version": 3
   },
   "file_extension": ".py",
   "mimetype": "text/x-python",
   "name": "python",
   "nbconvert_exporter": "python",
   "pygments_lexer": "ipython3",
   "version": "3.9.0"
  }
 },
 "nbformat": 4,
 "nbformat_minor": 1
}
